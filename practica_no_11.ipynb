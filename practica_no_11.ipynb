{
  "nbformat": 4,
  "nbformat_minor": 0,
  "metadata": {
    "colab": {
      "name": "practica no 11.ipynb",
      "provenance": []
    },
    "kernelspec": {
      "name": "python3",
      "display_name": "Python 3"
    },
    "language_info": {
      "name": "python"
    }
  },
  "cells": [
    {
      "cell_type": "markdown",
      "source": [
        "Write a python program using numpy to sort the elements in the given array."
      ],
      "metadata": {
        "id": "x3wBmKhdMahl"
      }
    },
    {
      "cell_type": "markdown",
      "source": [
        "Example 1"
      ],
      "metadata": {
        "id": "rfXM4jNMMmpT"
      }
    },
    {
      "cell_type": "code",
      "source": [
        "import numpy as np\n",
        "nums =  np.random.rand(10)\n",
        "print(\"Original array:\")\n",
        "print(nums)\n",
        "print(\"\\nSorted first 5 elements:\")\n",
        "print(nums[np.argpartition(nums,range(5))])"
      ],
      "metadata": {
        "colab": {
          "base_uri": "https://localhost:8080/"
        },
        "id": "2iq8XeBxMphM",
        "outputId": "2f0cae14-bb17-44e4-f536-510ff7ee4bf3"
      },
      "execution_count": 3,
      "outputs": [
        {
          "output_type": "stream",
          "name": "stdout",
          "text": [
            "Original array:\n",
            "[0.28847024 0.76040974 0.94542392 0.35539807 0.31248145 0.30333346\n",
            " 0.73095659 0.03577678 0.0359835  0.17874803]\n",
            "\n",
            "Sorted first 5 elements:\n",
            "[0.03577678 0.0359835  0.17874803 0.28847024 0.30333346 0.31248145\n",
            " 0.73095659 0.35539807 0.76040974 0.94542392]\n"
          ]
        }
      ]
    },
    {
      "cell_type": "markdown",
      "source": [
        "Example 2-Sort Array in Ascending Order"
      ],
      "metadata": {
        "id": "zC-AQJ9iMwNL"
      }
    },
    {
      "cell_type": "code",
      "source": [
        "import numpy as np\n",
        "\n",
        "orarr = np.array([10, 160, 120, 20, 8, 42, 71])\n",
        "print(\"***Sorting Numpy Array in Ascending Order***\")\n",
        "print(\"Original Array = \", orarr)\n",
        "\n",
        "orarr.sort()\n",
        "print(\"sorted Array   = \", orarr)"
      ],
      "metadata": {
        "colab": {
          "base_uri": "https://localhost:8080/"
        },
        "id": "-CtvC1BOM1oF",
        "outputId": "4fec88c5-6b55-41d8-aa1f-95272bd0013c"
      },
      "execution_count": 4,
      "outputs": [
        {
          "output_type": "stream",
          "name": "stdout",
          "text": [
            "***Sorting Numpy Array in Ascending Order***\n",
            "Original Array =  [ 10 160 120  20   8  42  71]\n",
            "sorted Array   =  [  8  10  20  42  71 120 160]\n"
          ]
        }
      ]
    },
    {
      "cell_type": "markdown",
      "source": [
        "Example 3-Sort Array in Descending Order"
      ],
      "metadata": {
        "id": "2PFBtVCBNLkk"
      }
    },
    {
      "cell_type": "code",
      "source": [
        "import numpy as np\n",
        "\n",
        "orarr = np.array([25, 59, 40, 80, 85, 20, 180, 110])\n",
        "print(\"***Sorting Numpy Array in Descending Order***\")\n",
        "print(\"Original Array             = \", orarr)\n",
        "\n",
        "orarr.sort()\n",
        "descarr = orarr[::-1]\n",
        "print(\"Array in Descending Order  = \", descarr)"
      ],
      "metadata": {
        "colab": {
          "base_uri": "https://localhost:8080/"
        },
        "id": "79FW3ZtZNMqE",
        "outputId": "71c1854b-4251-4418-ddd0-da16aaf7f248"
      },
      "execution_count": 5,
      "outputs": [
        {
          "output_type": "stream",
          "name": "stdout",
          "text": [
            "***Sorting Numpy Array in Descending Order***\n",
            "Original Array             =  [ 25  59  40  80  85  20 180 110]\n",
            "Array in Descending Order  =  [180 110  85  80  59  40  25  20]\n"
          ]
        }
      ]
    }
  ]
}